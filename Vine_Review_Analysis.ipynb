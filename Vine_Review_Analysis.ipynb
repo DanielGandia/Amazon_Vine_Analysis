{
  "nbformat": 4,
  "nbformat_minor": 5,
  "metadata": {
    "kernelspec": {
      "display_name": "mlenv",
      "language": "python",
      "name": "mlenv"
    },
    "language_info": {
      "codemirror_mode": {
        "name": "ipython",
        "version": 3
      },
      "file_extension": ".py",
      "mimetype": "text/x-python",
      "name": "python",
      "nbconvert_exporter": "python",
      "pygments_lexer": "ipython3",
      "version": "3.7.10"
    },
    "colab": {
      "name": "Vine_Review_Analysis.ipynb",
      "provenance": [],
      "collapsed_sections": []
    }
  },
  "cells": [
    {
      "cell_type": "code",
      "metadata": {
        "colab": {
          "base_uri": "https://localhost:8080/"
        },
        "id": "f27c93a0",
        "outputId": "f4b0f8e3-2036-496e-d877-528e3f4c00da"
      },
      "source": [
        "import os\n",
        "# Find the latest version of spark 2.0  from http://www-us.apache.org/dist/spark/ and enter as the spark version\n",
        "# For example:\n",
        "# spark_version = 'spark-3.0.0'\n",
        "spark_version = 'spark-3.1.2'\n",
        "os.environ['SPARK_VERSION']=spark_version\n",
        "\n",
        "# Install Spark and Java\n",
        "!apt-get update\n",
        "!apt-get install openjdk-11-jdk-headless -qq > /dev/null\n",
        "!wget -q http://www-us.apache.org/dist/spark/$SPARK_VERSION/$SPARK_VERSION-bin-hadoop2.7.tgz\n",
        "!tar xf $SPARK_VERSION-bin-hadoop2.7.tgz\n",
        "!pip install -q findspark\n",
        "\n",
        "# Set Environment Variables\n",
        "import os\n",
        "os.environ[\"JAVA_HOME\"] = \"/usr/lib/jvm/java-11-openjdk-amd64\"\n",
        "os.environ[\"SPARK_HOME\"] = f\"/content/{spark_version}-bin-hadoop2.7\"\n",
        "\n",
        "# Start a SparkSession\n",
        "import findspark\n",
        "findspark.init()"
      ],
      "id": "f27c93a0",
      "execution_count": 1,
      "outputs": [
        {
          "output_type": "stream",
          "text": [
            "\r0% [Working]\r            \rHit:1 http://security.ubuntu.com/ubuntu bionic-security InRelease\n",
            "\r0% [Connecting to archive.ubuntu.com (91.189.88.152)] [Connected to cloud.r-pro\r0% [1 InRelease gpgv 88.7 kB] [Connecting to archive.ubuntu.com (91.189.88.152)\r                                                                               \rHit:2 https://cloud.r-project.org/bin/linux/ubuntu bionic-cran40/ InRelease\n",
            "Ign:3 https://developer.download.nvidia.com/compute/cuda/repos/ubuntu1804/x86_64  InRelease\n",
            "Ign:4 https://developer.download.nvidia.com/compute/machine-learning/repos/ubuntu1804/x86_64  InRelease\n",
            "Hit:5 http://ppa.launchpad.net/c2d4u.team/c2d4u4.0+/ubuntu bionic InRelease\n",
            "Hit:6 https://developer.download.nvidia.com/compute/cuda/repos/ubuntu1804/x86_64  Release\n",
            "Hit:7 https://developer.download.nvidia.com/compute/machine-learning/repos/ubuntu1804/x86_64  Release\n",
            "Hit:8 http://archive.ubuntu.com/ubuntu bionic InRelease\n",
            "Hit:9 http://archive.ubuntu.com/ubuntu bionic-updates InRelease\n",
            "Hit:10 http://ppa.launchpad.net/cran/libgit2/ubuntu bionic InRelease\n",
            "Hit:11 http://archive.ubuntu.com/ubuntu bionic-backports InRelease\n",
            "Hit:12 http://ppa.launchpad.net/deadsnakes/ppa/ubuntu bionic InRelease\n",
            "Hit:13 http://ppa.launchpad.net/graphics-drivers/ppa/ubuntu bionic InRelease\n",
            "Reading package lists... Done\n"
          ],
          "name": "stdout"
        }
      ]
    },
    {
      "cell_type": "code",
      "metadata": {
        "colab": {
          "base_uri": "https://localhost:8080/"
        },
        "id": "2539e74f",
        "outputId": "3562ab33-d1f9-480f-8025-fb8d25aab341"
      },
      "source": [
        "# Download the Postgres driver that will allow Spark to interact with Postgres.\n",
        "!wget https://jdbc.postgresql.org/download/postgresql-42.2.16.jar"
      ],
      "id": "2539e74f",
      "execution_count": 2,
      "outputs": [
        {
          "output_type": "stream",
          "text": [
            "--2021-06-15 11:53:49--  https://jdbc.postgresql.org/download/postgresql-42.2.16.jar\n",
            "Resolving jdbc.postgresql.org (jdbc.postgresql.org)... 72.32.157.228, 2001:4800:3e1:1::228\n",
            "Connecting to jdbc.postgresql.org (jdbc.postgresql.org)|72.32.157.228|:443... connected.\n",
            "HTTP request sent, awaiting response... 200 OK\n",
            "Length: 1002883 (979K) [application/java-archive]\n",
            "Saving to: ‘postgresql-42.2.16.jar.2’\n",
            "\n",
            "postgresql-42.2.16. 100%[===================>] 979.38K  --.-KB/s    in 0.08s   \n",
            "\n",
            "2021-06-15 11:53:49 (11.5 MB/s) - ‘postgresql-42.2.16.jar.2’ saved [1002883/1002883]\n",
            "\n"
          ],
          "name": "stdout"
        }
      ]
    },
    {
      "cell_type": "code",
      "metadata": {
        "id": "075ac467"
      },
      "source": [
        "from pyspark.sql import SparkSession\n",
        "spark = SparkSession.builder.appName(\"BigData-Challenge\").config(\"spark.driver.extraClassPath\",\"/content/postgresql-42.2.16.jar\").getOrCreate()"
      ],
      "id": "075ac467",
      "execution_count": 3,
      "outputs": []
    },
    {
      "cell_type": "markdown",
      "metadata": {
        "id": "8498ff9d"
      },
      "source": [
        "### Load Amazon Data into Spark DataFrame"
      ],
      "id": "8498ff9d"
    },
    {
      "cell_type": "code",
      "metadata": {
        "colab": {
          "base_uri": "https://localhost:8080/"
        },
        "id": "70ecf23b",
        "outputId": "4c6e7735-b76d-4271-ace9-5711b0293cec"
      },
      "source": [
        "from pyspark import SparkFiles\n",
        "url = \"https://s3.amazonaws.com/amazon-reviews-pds/tsv/amazon_reviews_us_Electronics_v1_00.tsv.gz\"\n",
        "spark.sparkContext.addFile(url)\n",
        "df = spark.read.option(\"encoding\", \"UTF-8\").csv(SparkFiles.get(\"amazon_reviews_us_Electronics_v1_00.tsv.gz\"), sep=\"\\t\", header=True, inferSchema=True)\n",
        "df.show()"
      ],
      "id": "70ecf23b",
      "execution_count": 4,
      "outputs": [
        {
          "output_type": "stream",
          "text": [
            "+-----------+-----------+--------------+----------+--------------+--------------------+----------------+-----------+-------------+-----------+----+-----------------+--------------------+--------------------+-----------+\n",
            "|marketplace|customer_id|     review_id|product_id|product_parent|       product_title|product_category|star_rating|helpful_votes|total_votes|vine|verified_purchase|     review_headline|         review_body|review_date|\n",
            "+-----------+-----------+--------------+----------+--------------+--------------------+----------------+-----------+-------------+-----------+----+-----------------+--------------------+--------------------+-----------+\n",
            "|         US|   41409413|R2MTG1GCZLR2DK|B00428R89M|     112201306|yoomall 5M Antenn...|     Electronics|          5|            0|          0|   N|                Y|          Five Stars|       As described.| 2015-08-31|\n",
            "|         US|   49668221|R2HBOEM8LE9928|B000068O48|     734576678|Hosa GPM-103 3.5m...|     Electronics|          5|            0|          0|   N|                Y|It works as adver...|It works as adver...| 2015-08-31|\n",
            "|         US|   12338275|R1P4RW1R9FDPEE|B000GGKOG8|     614448099|Channel Master Ti...|     Electronics|          5|            1|          1|   N|                Y|          Five Stars|         Works pissa| 2015-08-31|\n",
            "|         US|   38487968|R1EBPM82ENI67M|B000NU4OTA|      72265257|LIMTECH Wall char...|     Electronics|          1|            0|          0|   N|                Y|            One Star|Did not work at all.| 2015-08-31|\n",
            "|         US|   23732619|R372S58V6D11AT|B00JOQIO6S|     308169188|Skullcandy Air Ra...|     Electronics|          5|            1|          1|   N|                Y|Overall pleased w...|Works well. Bass ...| 2015-08-31|\n",
            "|         US|   21257820|R1A4514XOYI1PD|B008NCD2LG|     976385982|Pioneer SP-BS22-L...|     Electronics|          5|            1|          1|   N|                Y|          Five Stars|The quality on th...| 2015-08-31|\n",
            "|         US|    3084991|R20D9EHB7N20V6|B00007FGUF|     670878953|C2G/Cables to Go ...|     Electronics|          5|            0|          0|   N|                Y|           Lifesaver|Wish I could give...| 2015-08-31|\n",
            "|         US|    8153674|R1WUTD8MVSROJU|B00M9V2RMM|     508452933|COOLEAD-HDMI Swit...|     Electronics|          5|            0|          0|   N|                Y|          Five Stars|         works great| 2015-08-31|\n",
            "|         US|   52246189|R1QCYLT25812DM|B00J3O9DYI|     766372886|Philips Wireless ...|     Electronics|          4|            0|          0|   N|                Y|          Four Stars|Great sound and c...| 2015-08-31|\n",
            "|         US|   41463864| R904DQPBCEM7A|B00NS1A0E4|     458130381|PlayStation 3 3D ...|     Electronics|          4|            0|          0|   N|                Y|          Four Stars|    It works well~~~| 2015-08-31|\n",
            "|         US|    2781942|R1DGA6UQIVLKZ7|B007B5V092|     152891509|JVC HAFR201A Xtre...|     Electronics|          5|            0|          0|   N|                Y|          Five Stars|           Alll good| 2015-08-31|\n",
            "|         US|     707292| RLQT3V8SMNIBH|B00IODHGVG|     717335277|Sylvania Alarm Cl...|     Electronics|          5|            0|          0|   N|                Y|          Five Stars|Love clock radio ...| 2015-08-31|\n",
            "|         US|   31463514|R3T9GZS2TMXZGM|B0035PBHX6|     249533961|Coby 8 GB 1.8-Inc...|     Electronics|          1|            0|          0|   N|                Y|            One Star|Breaks very easil...| 2015-08-31|\n",
            "|         US|   33475055|R24HVAEYP5PLDN|B00K1JJWFO|     635791633|Diamond (Original...|     Electronics|          5|            0|          1|   N|                Y|          Five Stars|Excellent gain in...| 2015-08-31|\n",
            "|         US|   16543871|R32KMAPNV5NJPJ|B00S3LJ5EA|     659360184|Kingvom 8gb 50 Ho...|     Electronics|          5|            0|          0|   N|                Y|          Five Stars|everything I expe...| 2015-08-31|\n",
            "|         US|   38472651| RC7VLPHUT6UAF|B00B5QNGN6|     564421014|JBL Ultra-Portabl...|     Electronics|          5|            0|          0|   N|                Y|          Five Stars|Love this small s...| 2015-08-31|\n",
            "|         US|   26946211|R3G1II8P4KGUAR|B00PLE8QF6|     685446417|YIPBOWPT Surface ...|     Electronics|          5|            0|          0|   N|                Y|       great product|works as advertis...| 2015-08-31|\n",
            "|         US|   10195727|R1UBFCBUALL6S5|B00GHUSIU6|     595255086|StarTech.com Mini...|     Electronics|          5|            0|          0|   N|                Y|          Five Stars|very good especia...| 2015-08-31|\n",
            "|         US|   47386264|R1WI5NISM6GAUG|B0045EJY90|     892920832|TEAC CD-P650-B Co...|     Electronics|          2|            4|          5|   N|                Y|It does not copy ...|It does not copy ...| 2015-08-31|\n",
            "|         US|   13000908|R27F4OF4BIA4LU|B003BT6BM8|     631236454|Philips SHS8100/2...|     Electronics|          2|            1|          1|   N|                Y|Did not last long...|Did not last long...| 2015-08-31|\n",
            "+-----------+-----------+--------------+----------+--------------+--------------------+----------------+-----------+-------------+-----------+----+-----------------+--------------------+--------------------+-----------+\n",
            "only showing top 20 rows\n",
            "\n"
          ],
          "name": "stdout"
        }
      ]
    },
    {
      "cell_type": "markdown",
      "metadata": {
        "id": "2321f20d"
      },
      "source": [
        "### Deliverable 2 "
      ],
      "id": "2321f20d"
    },
    {
      "cell_type": "code",
      "metadata": {
        "colab": {
          "base_uri": "https://localhost:8080/"
        },
        "id": "110f90b1",
        "outputId": "80bfbec3-e6b5-4257-bb12-834222c0619c"
      },
      "source": [
        "# Filter the data and create a new DataFrame or table to retrieve all the rows where the total_votes count is equal to or greater than 20 \n",
        "totalvotes_df = df.filter(\"total_votes>=20\")\n",
        "totalvotes_df.show()"
      ],
      "id": "110f90b1",
      "execution_count": 5,
      "outputs": [
        {
          "output_type": "stream",
          "text": [
            "+-----------+-----------+--------------+----------+--------------+--------------------+----------------+-----------+-------------+-----------+----+-----------------+--------------------+--------------------+-----------+\n",
            "|marketplace|customer_id|     review_id|product_id|product_parent|       product_title|product_category|star_rating|helpful_votes|total_votes|vine|verified_purchase|     review_headline|         review_body|review_date|\n",
            "+-----------+-----------+--------------+----------+--------------+--------------------+----------------+-----------+-------------+-----------+----+-----------------+--------------------+--------------------+-----------+\n",
            "|         US|   14380991|R1FBO737KD9F2N|B00NG57H4S|     213020860|Sony MDRZX110 Noi...|     Electronics|          5|           19|         23|   N|                Y|Great noise cance...|Great pair of hea...| 2015-08-31|\n",
            "|         US|   51242401|R227GSNWI6BSZV|B00ICNXESC|     111052608|GS Portalac PX120...|     Electronics|          1|           20|         20|   N|                Y|Garbage, lasted 8...|I bought this as ...| 2015-08-31|\n",
            "|         US|    8464339|R3SJTYZBYBG4EE|B00L108SAW|      95420273|Nitecore D4 Smart...|     Electronics|          4|           99|         99|   N|                Y|Very good charger...|Here’s the quicki...| 2015-08-31|\n",
            "|         US|   49422039|R248FG65D76D5Y|B00870ZLJ0|     572574607|AmazonBasics High...|     Electronics|          1|           42|         53|   N|                Y|            One Star|Second time I pur...| 2015-08-31|\n",
            "|         US|   53003148|R3B6BXFKGW52SG|B00L2CK758|     293737333|Kingzer Top Incep...|     Electronics|          1|           32|         32|   N|                Y|Not what it says ...|The headline for ...| 2015-08-31|\n",
            "|         US|   23904525| ROTIV4VYL31R4|B00I482KZI|     891566887|enKo products HDM...|     Electronics|          5|           26|         26|   N|                Y|Great adaptor for...|Ok,from what I've...| 2015-08-31|\n",
            "|         US|   51258332|R3VQ59LD2LSKY7|B00YMN6E7O|     750699576|Yamaha RX-A2050 9...|     Electronics|          5|           20|         25|   N|                Y|... from a Yamaha...|I'm upgrading fro...| 2015-08-31|\n",
            "|         US|   45413169| RIIGLD8JB7PX8|B003WGRUQQ|     332910155|Electrohome EAAC6...|     Electronics|          1|           32|         35|   N|                Y|         Malfunction|Malfunction..... ...| 2015-08-31|\n",
            "|         US|   12515906|R3MUBV21QV0IJK|B00TP1C1UC|     156534786|AmazonBasics 6-Ou...|     Electronics|          3|           77|         84|   N|                Y|Some disassembly ...|I noticed a small...| 2015-08-31|\n",
            "|         US|   14309542|R1V5W0X6BKIJYA|B00IUUN6L2|     331100546|Universal TV Stan...|     Electronics|          5|          129|        132|   N|                Y|Great product and...|I ordered this pr...| 2015-08-31|\n",
            "|         US|   17298259|R274AKHXHYGIN6|B00X69BUSI|     314540276|iHome Color Chang...|     Electronics|          5|           87|        100|   N|                N|  Great Alarm Clock!|For many many yea...| 2015-08-31|\n",
            "|         US|   36356690|R184FOUNZZ7KO8|B0117RFX38|     294335899|Bose SoundTrue Ar...|     Electronics|          5|           15|         20|   Y|                N|Transparent - Mus...|When I see the Bo...| 2015-08-31|\n",
            "|         US|   19397215| RVSZIYT9NB29U|B00C402ZYS|     776423002|Bluetooth 5.25\" I...|     Electronics|          5|           22|         46|   N|                Y|Wonderful for out...|Great outside spe...| 2015-08-31|\n",
            "|         US|   20926319|R1RDAOSARQUVFJ|B011JAH5KW|     844047695|Sonos 5.1 Home Th...|     Electronics|          2|            6|         26|   N|                N|Overpriced and un...|The sonos 5.1 sou...| 2015-08-31|\n",
            "|         US|   40053317| R88RERIQDYDT5|B011SLD1NC|     379220827|Apple iPod Touch ...|     Electronics|          2|           17|         26|   N|                N|Good Product, cra...|First of all, any...| 2015-08-31|\n",
            "|         US|   17993172| RLYK7DY9F6RUP|B005SUM1PO|     846365513|Sewell Direct Lun...|     Electronics|          4|           17|         20|   N|                Y|       Does the job!|I bought this to ...| 2015-08-31|\n",
            "|         US|   38916196|R3T31I7IKQ5LFQ|B00AXVWNGA|     832088064|[Black + MHL Gend...|     Electronics|          3|           52|         55|   N|                Y|One of the best H...|Update 11/16/2016...| 2015-08-31|\n",
            "|         US|    3116782| RZETLPHZJFYB8|B00M3NZKA2|     323890891|Sennheiser Urbani...|     Electronics|          5|           23|         24|   N|                Y|In-depth comparis...|TL;DR<br /> - I o...| 2015-08-31|\n",
            "|         US|   24133606|R1BG5NL9AX68QE|B00JRD13T8|     634946096|Sony Extra Bass E...|     Electronics|          1|           23|         29|   N|                Y|Fakes are horribl...|***knockoff alert...| 2015-08-31|\n",
            "|         US|   17993172|R1Y05HDL2AWCSA|B00ILCS182|     578563705|Yamaha RX-V677 7....|     Electronics|          5|          140|        145|   N|                Y|Outstanding recei...|When I set out to...| 2015-08-31|\n",
            "+-----------+-----------+--------------+----------+--------------+--------------------+----------------+-----------+-------------+-----------+----+-----------------+--------------------+--------------------+-----------+\n",
            "only showing top 20 rows\n",
            "\n"
          ],
          "name": "stdout"
        }
      ]
    },
    {
      "cell_type": "code",
      "metadata": {
        "colab": {
          "base_uri": "https://localhost:8080/"
        },
        "id": "O1ZBN5LoQYDL",
        "outputId": "40c4b962-56d1-48f1-ddfe-f2782f1f046e"
      },
      "source": [
        "# retrieve all the rows where the number of helpful_votes divided by total_votes is equal to or greater than 50%\n",
        "helpful_50_df = totalvotes_df.filter(\"helpful_votes/total_votes>=.50\")\n",
        "helpful_50_df.show()"
      ],
      "id": "O1ZBN5LoQYDL",
      "execution_count": 6,
      "outputs": [
        {
          "output_type": "stream",
          "text": [
            "+-----------+-----------+--------------+----------+--------------+--------------------+----------------+-----------+-------------+-----------+----+-----------------+--------------------+--------------------+-----------+\n",
            "|marketplace|customer_id|     review_id|product_id|product_parent|       product_title|product_category|star_rating|helpful_votes|total_votes|vine|verified_purchase|     review_headline|         review_body|review_date|\n",
            "+-----------+-----------+--------------+----------+--------------+--------------------+----------------+-----------+-------------+-----------+----+-----------------+--------------------+--------------------+-----------+\n",
            "|         US|   14380991|R1FBO737KD9F2N|B00NG57H4S|     213020860|Sony MDRZX110 Noi...|     Electronics|          5|           19|         23|   N|                Y|Great noise cance...|Great pair of hea...| 2015-08-31|\n",
            "|         US|   51242401|R227GSNWI6BSZV|B00ICNXESC|     111052608|GS Portalac PX120...|     Electronics|          1|           20|         20|   N|                Y|Garbage, lasted 8...|I bought this as ...| 2015-08-31|\n",
            "|         US|    8464339|R3SJTYZBYBG4EE|B00L108SAW|      95420273|Nitecore D4 Smart...|     Electronics|          4|           99|         99|   N|                Y|Very good charger...|Here’s the quicki...| 2015-08-31|\n",
            "|         US|   49422039|R248FG65D76D5Y|B00870ZLJ0|     572574607|AmazonBasics High...|     Electronics|          1|           42|         53|   N|                Y|            One Star|Second time I pur...| 2015-08-31|\n",
            "|         US|   53003148|R3B6BXFKGW52SG|B00L2CK758|     293737333|Kingzer Top Incep...|     Electronics|          1|           32|         32|   N|                Y|Not what it says ...|The headline for ...| 2015-08-31|\n",
            "|         US|   23904525| ROTIV4VYL31R4|B00I482KZI|     891566887|enKo products HDM...|     Electronics|          5|           26|         26|   N|                Y|Great adaptor for...|Ok,from what I've...| 2015-08-31|\n",
            "|         US|   51258332|R3VQ59LD2LSKY7|B00YMN6E7O|     750699576|Yamaha RX-A2050 9...|     Electronics|          5|           20|         25|   N|                Y|... from a Yamaha...|I'm upgrading fro...| 2015-08-31|\n",
            "|         US|   45413169| RIIGLD8JB7PX8|B003WGRUQQ|     332910155|Electrohome EAAC6...|     Electronics|          1|           32|         35|   N|                Y|         Malfunction|Malfunction..... ...| 2015-08-31|\n",
            "|         US|   12515906|R3MUBV21QV0IJK|B00TP1C1UC|     156534786|AmazonBasics 6-Ou...|     Electronics|          3|           77|         84|   N|                Y|Some disassembly ...|I noticed a small...| 2015-08-31|\n",
            "|         US|   14309542|R1V5W0X6BKIJYA|B00IUUN6L2|     331100546|Universal TV Stan...|     Electronics|          5|          129|        132|   N|                Y|Great product and...|I ordered this pr...| 2015-08-31|\n",
            "|         US|   17298259|R274AKHXHYGIN6|B00X69BUSI|     314540276|iHome Color Chang...|     Electronics|          5|           87|        100|   N|                N|  Great Alarm Clock!|For many many yea...| 2015-08-31|\n",
            "|         US|   36356690|R184FOUNZZ7KO8|B0117RFX38|     294335899|Bose SoundTrue Ar...|     Electronics|          5|           15|         20|   Y|                N|Transparent - Mus...|When I see the Bo...| 2015-08-31|\n",
            "|         US|   40053317| R88RERIQDYDT5|B011SLD1NC|     379220827|Apple iPod Touch ...|     Electronics|          2|           17|         26|   N|                N|Good Product, cra...|First of all, any...| 2015-08-31|\n",
            "|         US|   17993172| RLYK7DY9F6RUP|B005SUM1PO|     846365513|Sewell Direct Lun...|     Electronics|          4|           17|         20|   N|                Y|       Does the job!|I bought this to ...| 2015-08-31|\n",
            "|         US|   38916196|R3T31I7IKQ5LFQ|B00AXVWNGA|     832088064|[Black + MHL Gend...|     Electronics|          3|           52|         55|   N|                Y|One of the best H...|Update 11/16/2016...| 2015-08-31|\n",
            "|         US|    3116782| RZETLPHZJFYB8|B00M3NZKA2|     323890891|Sennheiser Urbani...|     Electronics|          5|           23|         24|   N|                Y|In-depth comparis...|TL;DR<br /> - I o...| 2015-08-31|\n",
            "|         US|   24133606|R1BG5NL9AX68QE|B00JRD13T8|     634946096|Sony Extra Bass E...|     Electronics|          1|           23|         29|   N|                Y|Fakes are horribl...|***knockoff alert...| 2015-08-31|\n",
            "|         US|   17993172|R1Y05HDL2AWCSA|B00ILCS182|     578563705|Yamaha RX-V677 7....|     Electronics|          5|          140|        145|   N|                Y|Outstanding recei...|When I set out to...| 2015-08-31|\n",
            "|         US|   47222116|R20EPERDBI56K8|B00XA0UX2W|     386880249|1byone Outdoor TV...|     Electronics|          1|           30|         37|   N|                Y|DON'T BUY THIS AN...|I purchased this ...| 2015-08-30|\n",
            "|         US|   46211392| RPTN47ZNQBPWE|B00YMN6EOM|     550798604|Yamaha RX-A3050 9...|     Electronics|          5|           20|         24|   N|                Y|First of all it h...|Ive had the 3050 ...| 2015-08-30|\n",
            "+-----------+-----------+--------------+----------+--------------+--------------------+----------------+-----------+-------------+-----------+----+-----------------+--------------------+--------------------+-----------+\n",
            "only showing top 20 rows\n",
            "\n"
          ],
          "name": "stdout"
        }
      ]
    },
    {
      "cell_type": "code",
      "metadata": {
        "colab": {
          "base_uri": "https://localhost:8080/"
        },
        "id": "hlOndoxOQkQr",
        "outputId": "17c7f1f6-75a2-4982-fa88-ba21e4afebb9"
      },
      "source": [
        "# Filter the DataFrame and create a new table that retrieves all the rows where a review was written as part of the Vine program (paid)\n",
        "paid_vine_review_df = helpful_50_df.filter(helpful_50_df[\"vine\"] == \"Y\")\n",
        "paid_vine_review_df.show()"
      ],
      "id": "hlOndoxOQkQr",
      "execution_count": 7,
      "outputs": [
        {
          "output_type": "stream",
          "text": [
            "+-----------+-----------+--------------+----------+--------------+--------------------+----------------+-----------+-------------+-----------+----+-----------------+--------------------+--------------------+-----------+\n",
            "|marketplace|customer_id|     review_id|product_id|product_parent|       product_title|product_category|star_rating|helpful_votes|total_votes|vine|verified_purchase|     review_headline|         review_body|review_date|\n",
            "+-----------+-----------+--------------+----------+--------------+--------------------+----------------+-----------+-------------+-----------+----+-----------------+--------------------+--------------------+-----------+\n",
            "|         US|   36356690|R184FOUNZZ7KO8|B0117RFX38|     294335899|Bose SoundTrue Ar...|     Electronics|          5|           15|         20|   Y|                N|Transparent - Mus...|When I see the Bo...| 2015-08-31|\n",
            "|         US|   37291590| R82QWN2X2OCHB|B0117RGG8E|     871919611|Bose SoundLink ar...|     Electronics|          5|          176|        208|   Y|                N|Outstanding Bluet...|For purposes of f...| 2015-08-30|\n",
            "|         US|   53030638|R1UYHBYE6790BU|B00TP1C1UC|     156534786|AmazonBasics 6-Ou...|     Electronics|          5|           44|         53|   Y|                N|Nicely designed, ...|I got this from t...| 2015-08-28|\n",
            "|         US|   50672825|R2J3YLX1L4EH2B|B012B7S46Q|     342209069|Bose Solo 15 Seri...|     Electronics|          5|          299|        321|   Y|                N|Great sound, simp...|This a review of ...| 2015-08-26|\n",
            "|         US|   52563108|R3QDI539WTXKE2|B00TTWZ9VU|     772792073|Sony SRSX77 Power...|     Electronics|          5|           26|         32|   Y|                N|Big sound, flexib...|This is a review ...| 2015-08-23|\n",
            "|         US|   49737329| RQTPWY6ND2NRV|B00VY9LCIA|     344025263|Philips Kids Head...|     Electronics|          4|           37|         37|   Y|                N|Best sounding kid...|So I have three k...| 2015-08-22|\n",
            "|         US|   42525878| RQZSTE0KOBY2G|B00TP1C51M|     156534786|AmazonBasics 6-Ou...|     Electronics|          4|           98|        109|   Y|                N|Minimal protectio...|The AmazonBasics ...| 2015-08-20|\n",
            "|         US|   50888291| RF2RNZEJO0K1N|B00UNDES84|     809037577|iHome Portable US...|     Electronics|          4|           23|         26|   Y|                N|Compared to the E...|I purchased the c...| 2015-08-18|\n",
            "|         US|   47930240| ROB6VOW41E8O5|B012B7S46Q|     342209069|Bose Solo 15 Seri...|     Electronics|          4|          155|        172|   Y|                N|Bose does it agai...|PROS:<br />Major ...| 2015-08-17|\n",
            "|         US|   51094564|R3ASMXPEPYY28T|B012B7S46Q|     342209069|Bose Solo 15 Seri...|     Electronics|          3|           11|         20|   Y|                N|an improvement ov...|I requested the B...| 2015-08-13|\n",
            "|         US|   52368641|R1PSDADBJRKB7N|B012B7S46Q|     342209069|Bose Solo 15 Seri...|     Electronics|          5|          215|        234|   Y|                N| A Pleasant Surprise|[Please also see ...| 2015-08-11|\n",
            "|         US|   48198113|R379PSH3FBB6CG|B00UNDEKWI|     824863571|Timex AM/ FM Dual...|     Electronics|          5|           22|         26|   Y|                N|Inexpensive Quali...|I love the big nu...| 2015-08-09|\n",
            "|         US|   42430196| R4TBG0DR9Q3R2|B00UNDEKWI|     824863571|Timex AM/ FM Dual...|     Electronics|          4|           27|         35|   Y|                N|It works great, o...|The clock is nice...| 2015-08-07|\n",
            "|         US|   52421866|R3LFHK362GJ77T|B00C19125A|     369941789|Panasonic Best in...|     Electronics|          4|           31|         33|   Y|                N|Good noise cancel...|I'm a little perp...| 2015-08-06|\n",
            "|         US|   48393616|R1GB60TUTJB5HP|B00UNDES84|     809037577|iHome Portable US...|     Electronics|          5|           41|         45|   Y|                N|Packs a big punch...|[[VIDEOID:dca0369...| 2015-08-03|\n",
            "|         US|   48393616|R2471U9VXGOMON|B00UNDEKWI|     824863571|Timex AM/ FM Dual...|     Electronics|          4|          197|        206|   Y|                N|Alarm clock inclu...|[[VIDEOID:5e156d4...| 2015-07-30|\n",
            "|         US|   25328888|R24N1S9H53A8QR|B00WTQEZBI|     282521609|Yamaha YAS-105 So...|     Electronics|          5|           64|         70|   Y|                N|Great Sound, Low ...|The Yamaha Sound ...| 2015-07-30|\n",
            "|         US|   26841857|R2S4BSWNHNX2GG|B00UNDEKWI|     824863571|Timex AM/ FM Dual...|     Electronics|          5|           54|         61|   Y|                N|Compact, ready to...|This is a very co...| 2015-07-29|\n",
            "|         US|   51284509|R36FG1XJKLAK36|B00UNDEKWI|     824863571|Timex AM/ FM Dual...|     Electronics|          5|           23|         27|   Y|                N|        Good product|Another reviewer ...| 2015-07-28|\n",
            "|         US|   52662237|R2ENZ835SOCA46|B00XZ42HBI|     251744568|Gibson Trainer Sp...|     Electronics|          4|           26|         30|   Y|                N|Great sound.  But...|I have a lot of r...| 2015-07-26|\n",
            "+-----------+-----------+--------------+----------+--------------+--------------------+----------------+-----------+-------------+-----------+----+-----------------+--------------------+--------------------+-----------+\n",
            "only showing top 20 rows\n",
            "\n"
          ],
          "name": "stdout"
        }
      ]
    },
    {
      "cell_type": "code",
      "metadata": {
        "colab": {
          "base_uri": "https://localhost:8080/"
        },
        "id": "Cb3CjeV2QyIr",
        "outputId": "59b98788-af4c-40ce-f244-88c86bfa8239"
      },
      "source": [
        "# retrieve all the rows where the review was not part of the Vine program (unpaid)\n",
        "unpaid_vine_review_df = helpful_50_df.filter(helpful_50_df[\"vine\"] == \"N\")\n",
        "unpaid_vine_review_df.show()"
      ],
      "id": "Cb3CjeV2QyIr",
      "execution_count": 8,
      "outputs": [
        {
          "output_type": "stream",
          "text": [
            "+-----------+-----------+--------------+----------+--------------+--------------------+----------------+-----------+-------------+-----------+----+-----------------+--------------------+--------------------+-----------+\n",
            "|marketplace|customer_id|     review_id|product_id|product_parent|       product_title|product_category|star_rating|helpful_votes|total_votes|vine|verified_purchase|     review_headline|         review_body|review_date|\n",
            "+-----------+-----------+--------------+----------+--------------+--------------------+----------------+-----------+-------------+-----------+----+-----------------+--------------------+--------------------+-----------+\n",
            "|         US|   14380991|R1FBO737KD9F2N|B00NG57H4S|     213020860|Sony MDRZX110 Noi...|     Electronics|          5|           19|         23|   N|                Y|Great noise cance...|Great pair of hea...| 2015-08-31|\n",
            "|         US|   51242401|R227GSNWI6BSZV|B00ICNXESC|     111052608|GS Portalac PX120...|     Electronics|          1|           20|         20|   N|                Y|Garbage, lasted 8...|I bought this as ...| 2015-08-31|\n",
            "|         US|    8464339|R3SJTYZBYBG4EE|B00L108SAW|      95420273|Nitecore D4 Smart...|     Electronics|          4|           99|         99|   N|                Y|Very good charger...|Here’s the quicki...| 2015-08-31|\n",
            "|         US|   49422039|R248FG65D76D5Y|B00870ZLJ0|     572574607|AmazonBasics High...|     Electronics|          1|           42|         53|   N|                Y|            One Star|Second time I pur...| 2015-08-31|\n",
            "|         US|   53003148|R3B6BXFKGW52SG|B00L2CK758|     293737333|Kingzer Top Incep...|     Electronics|          1|           32|         32|   N|                Y|Not what it says ...|The headline for ...| 2015-08-31|\n",
            "|         US|   23904525| ROTIV4VYL31R4|B00I482KZI|     891566887|enKo products HDM...|     Electronics|          5|           26|         26|   N|                Y|Great adaptor for...|Ok,from what I've...| 2015-08-31|\n",
            "|         US|   51258332|R3VQ59LD2LSKY7|B00YMN6E7O|     750699576|Yamaha RX-A2050 9...|     Electronics|          5|           20|         25|   N|                Y|... from a Yamaha...|I'm upgrading fro...| 2015-08-31|\n",
            "|         US|   45413169| RIIGLD8JB7PX8|B003WGRUQQ|     332910155|Electrohome EAAC6...|     Electronics|          1|           32|         35|   N|                Y|         Malfunction|Malfunction..... ...| 2015-08-31|\n",
            "|         US|   12515906|R3MUBV21QV0IJK|B00TP1C1UC|     156534786|AmazonBasics 6-Ou...|     Electronics|          3|           77|         84|   N|                Y|Some disassembly ...|I noticed a small...| 2015-08-31|\n",
            "|         US|   14309542|R1V5W0X6BKIJYA|B00IUUN6L2|     331100546|Universal TV Stan...|     Electronics|          5|          129|        132|   N|                Y|Great product and...|I ordered this pr...| 2015-08-31|\n",
            "|         US|   17298259|R274AKHXHYGIN6|B00X69BUSI|     314540276|iHome Color Chang...|     Electronics|          5|           87|        100|   N|                N|  Great Alarm Clock!|For many many yea...| 2015-08-31|\n",
            "|         US|   40053317| R88RERIQDYDT5|B011SLD1NC|     379220827|Apple iPod Touch ...|     Electronics|          2|           17|         26|   N|                N|Good Product, cra...|First of all, any...| 2015-08-31|\n",
            "|         US|   17993172| RLYK7DY9F6RUP|B005SUM1PO|     846365513|Sewell Direct Lun...|     Electronics|          4|           17|         20|   N|                Y|       Does the job!|I bought this to ...| 2015-08-31|\n",
            "|         US|   38916196|R3T31I7IKQ5LFQ|B00AXVWNGA|     832088064|[Black + MHL Gend...|     Electronics|          3|           52|         55|   N|                Y|One of the best H...|Update 11/16/2016...| 2015-08-31|\n",
            "|         US|    3116782| RZETLPHZJFYB8|B00M3NZKA2|     323890891|Sennheiser Urbani...|     Electronics|          5|           23|         24|   N|                Y|In-depth comparis...|TL;DR<br /> - I o...| 2015-08-31|\n",
            "|         US|   24133606|R1BG5NL9AX68QE|B00JRD13T8|     634946096|Sony Extra Bass E...|     Electronics|          1|           23|         29|   N|                Y|Fakes are horribl...|***knockoff alert...| 2015-08-31|\n",
            "|         US|   17993172|R1Y05HDL2AWCSA|B00ILCS182|     578563705|Yamaha RX-V677 7....|     Electronics|          5|          140|        145|   N|                Y|Outstanding recei...|When I set out to...| 2015-08-31|\n",
            "|         US|   47222116|R20EPERDBI56K8|B00XA0UX2W|     386880249|1byone Outdoor TV...|     Electronics|          1|           30|         37|   N|                Y|DON'T BUY THIS AN...|I purchased this ...| 2015-08-30|\n",
            "|         US|   46211392| RPTN47ZNQBPWE|B00YMN6EOM|     550798604|Yamaha RX-A3050 9...|     Electronics|          5|           20|         24|   N|                Y|First of all it h...|Ive had the 3050 ...| 2015-08-30|\n",
            "|         US|   48449361|R3VJ8U3A8MT8II|B00O2M7N48|     133334658|Marathon HDTV Lon...|     Electronics|          5|           17|         21|   N|                Y|For the 1st time ...|Because we live i...| 2015-08-30|\n",
            "+-----------+-----------+--------------+----------+--------------+--------------------+----------------+-----------+-------------+-----------+----+-----------------+--------------------+--------------------+-----------+\n",
            "only showing top 20 rows\n",
            "\n"
          ],
          "name": "stdout"
        }
      ]
    },
    {
      "cell_type": "code",
      "metadata": {
        "colab": {
          "base_uri": "https://localhost:8080/"
        },
        "id": "Ig4Ssoo_0sT6",
        "outputId": "84099d30-1b03-48bc-f3ee-ba9bc924c377"
      },
      "source": [
        "# Total Number of Reviews\n",
        "total_reviews = helpful_50_df.count()\n",
        "total_reviews"
      ],
      "id": "Ig4Ssoo_0sT6",
      "execution_count": 9,
      "outputs": [
        {
          "output_type": "execute_result",
          "data": {
            "text/plain": [
              "50753"
            ]
          },
          "metadata": {
            "tags": []
          },
          "execution_count": 9
        }
      ]
    },
    {
      "cell_type": "code",
      "metadata": {
        "colab": {
          "base_uri": "https://localhost:8080/"
        },
        "id": "XtK_vzza1aFZ",
        "outputId": "ef88ff3a-869a-4425-8d66-7f1c3fc7e948"
      },
      "source": [
        "# Total of Vine\n",
        "total_vine = helpful_50_df.filter(\"vine == 'Y'\")\n",
        "total_vine.count()\n"
      ],
      "id": "XtK_vzza1aFZ",
      "execution_count": 10,
      "outputs": [
        {
          "output_type": "execute_result",
          "data": {
            "text/plain": [
              "1080"
            ]
          },
          "metadata": {
            "tags": []
          },
          "execution_count": 10
        }
      ]
    },
    {
      "cell_type": "code",
      "metadata": {
        "colab": {
          "base_uri": "https://localhost:8080/"
        },
        "id": "jXG14o_s1eSR",
        "outputId": "93ded5a5-e155-4697-b5ee-1457a66a3b80"
      },
      "source": [
        "# Total of Non-Vine\n",
        "non_vine = helpful_50_df.filter (\"vine == 'N'\")\n",
        "non_vine.count()"
      ],
      "id": "jXG14o_s1eSR",
      "execution_count": 11,
      "outputs": [
        {
          "output_type": "execute_result",
          "data": {
            "text/plain": [
              "49673"
            ]
          },
          "metadata": {
            "tags": []
          },
          "execution_count": 11
        }
      ]
    },
    {
      "cell_type": "code",
      "metadata": {
        "colab": {
          "base_uri": "https://localhost:8080/"
        },
        "id": "FjrQIU8j1gWJ",
        "outputId": "e0ecf5ea-0613-49fc-a4f0-b0409b1938f2"
      },
      "source": [
        "# Number of 5-star reviews\n",
        "total_5star_reviews = helpful_50_df.filter(\"star_rating == 5\")\n",
        "total_5star_reviews.count()"
      ],
      "id": "FjrQIU8j1gWJ",
      "execution_count": 12,
      "outputs": [
        {
          "output_type": "execute_result",
          "data": {
            "text/plain": [
              "23497"
            ]
          },
          "metadata": {
            "tags": []
          },
          "execution_count": 12
        }
      ]
    },
    {
      "cell_type": "code",
      "metadata": {
        "colab": {
          "base_uri": "https://localhost:8080/"
        },
        "id": "phKuM3361p_4",
        "outputId": "ca1b2bcb-5c47-47fd-d607-f90d035c4d6f"
      },
      "source": [
        "# Number of 5-star reviews (vine)\n",
        "vine_reviews = total_vine.filter(\"star_rating == 5\")\n",
        "vine_reviews.count()"
      ],
      "id": "phKuM3361p_4",
      "execution_count": 13,
      "outputs": [
        {
          "output_type": "execute_result",
          "data": {
            "text/plain": [
              "454"
            ]
          },
          "metadata": {
            "tags": []
          },
          "execution_count": 13
        }
      ]
    },
    {
      "cell_type": "code",
      "metadata": {
        "colab": {
          "base_uri": "https://localhost:8080/"
        },
        "id": "C2fdvEf21sox",
        "outputId": "eefccbfa-5409-4072-e7f2-822ff0f3a1b7"
      },
      "source": [
        "# Number of 5-star reviews (non_vine)\n",
        "non_vine_reviews = non_vine.filter(\"star_rating == 5\")\n",
        "non_vine_reviews.count()"
      ],
      "id": "C2fdvEf21sox",
      "execution_count": 14,
      "outputs": [
        {
          "output_type": "execute_result",
          "data": {
            "text/plain": [
              "23043"
            ]
          },
          "metadata": {
            "tags": []
          },
          "execution_count": 14
        }
      ]
    },
    {
      "cell_type": "code",
      "metadata": {
        "colab": {
          "base_uri": "https://localhost:8080/"
        },
        "id": "Fut3ANIG1v4B",
        "outputId": "c04d92e5-bec7-4808-9c03-f2c540b97937"
      },
      "source": [
        "# 5-Star vine_reviews divided by total_vine\n",
        "percentage_vine_5star = (vine_reviews.count()/total_vine.count()) * 100 \n",
        "round(percentage_vine_5star, 2)"
      ],
      "id": "Fut3ANIG1v4B",
      "execution_count": 15,
      "outputs": [
        {
          "output_type": "execute_result",
          "data": {
            "text/plain": [
              "42.04"
            ]
          },
          "metadata": {
            "tags": []
          },
          "execution_count": 15
        }
      ]
    },
    {
      "cell_type": "code",
      "metadata": {
        "colab": {
          "base_uri": "https://localhost:8080/"
        },
        "id": "lvzDPebq1zIK",
        "outputId": "02ad80d1-fc8e-4bff-fa4d-d7a9274383f7"
      },
      "source": [
        "# 5-star vine_reviews divide by total_5star_reviews = percentage of Vine 5-star\n",
        "percentage_vine_total_5star = (vine_reviews.count()/total_5star_reviews.count()) * 100\n",
        "round(percentage_vine_total_5star, 2)"
      ],
      "id": "lvzDPebq1zIK",
      "execution_count": 17,
      "outputs": [
        {
          "output_type": "execute_result",
          "data": {
            "text/plain": [
              "1.93"
            ]
          },
          "metadata": {
            "tags": []
          },
          "execution_count": 17
        }
      ]
    },
    {
      "cell_type": "code",
      "metadata": {
        "colab": {
          "base_uri": "https://localhost:8080/"
        },
        "id": "w27H6rMC1zwp",
        "outputId": "180b3de5-ad0c-4997-8053-55c7affde5fa"
      },
      "source": [
        "# 5-star non_vine_reviews divided by total non_vine = percentage of non_vine\n",
        "percentage_nonvine_5star = (non_vine_reviews.count()/non_vine.count()) * 100\n",
        "round(percentage_nonvine_5star, 2)"
      ],
      "id": "w27H6rMC1zwp",
      "execution_count": 18,
      "outputs": [
        {
          "output_type": "execute_result",
          "data": {
            "text/plain": [
              "46.39"
            ]
          },
          "metadata": {
            "tags": []
          },
          "execution_count": 18
        }
      ]
    },
    {
      "cell_type": "code",
      "metadata": {
        "colab": {
          "base_uri": "https://localhost:8080/"
        },
        "id": "IXNnFCS_12Qy",
        "outputId": "9bca58fa-b017-4331-978d-6f4f372a4d67"
      },
      "source": [
        "# 5-star non_vine_reviews divide by total_5star_reviews = percentage of non-vine 5-star\n",
        "percentage_nonvine_total_5star = (non_vine_reviews.count()/total_5star_reviews.count()) * 100\n",
        "round(percentage_unpaid_total_5star, 2)"
      ],
      "id": "IXNnFCS_12Qy",
      "execution_count": 19,
      "outputs": [
        {
          "output_type": "execute_result",
          "data": {
            "text/plain": [
              "98.07"
            ]
          },
          "metadata": {
            "tags": []
          },
          "execution_count": 19
        }
      ]
    }
  ]
}